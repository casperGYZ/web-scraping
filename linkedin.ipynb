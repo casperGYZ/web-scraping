{
 "cells": [
  {
   "cell_type": "code",
   "execution_count": 17,
   "metadata": {},
   "outputs": [],
   "source": [
    "from selenium import webdriver\n",
    "from selenium.webdriver.chrome.options import Options\n",
    "from webdriver_manager.chrome import ChromeDriverManager\n",
    "from selenium.webdriver.common.by import By\n",
    "from selenium.webdriver.common.keys import Keys\n",
    "from bs4 import BeautifulSoup\n",
    "import re"
   ]
  },
  {
   "cell_type": "code",
   "execution_count": 2,
   "metadata": {
    "scrolled": true
   },
   "outputs": [],
   "source": [
    "#Options for open the chrome driver\n",
    "Options = Options()\n",
    "Options.chrome_executable_path=r\"C:\\Users\\caspe\\Documents\\Keep\\try\\Real estate\\chromedriver.exe\" #location of the driver app\n",
    "Options.add_argument(\"--start-maximized\") # maxmize the screen"
   ]
  },
  {
   "cell_type": "code",
   "execution_count": 3,
   "metadata": {},
   "outputs": [],
   "source": [
    "driver = webdriver.Chrome(options=Options) #start the APP\n",
    "driver.get('https://www.linkedin.com/login/zh-cn') #go to the link"
   ]
  },
  {
   "cell_type": "markdown",
   "metadata": {},
   "source": [
    "## Doing login"
   ]
  },
  {
   "cell_type": "code",
   "execution_count": 4,
   "metadata": {},
   "outputs": [],
   "source": [
    "#find the input box location for username based on the id\n",
    "user = driver.find_element(By.ID,\"username\")\n",
    "#find the input box location for password based on the id\n",
    "password = driver.find_element(By.ID,\"password\")"
   ]
  },
  {
   "cell_type": "code",
   "execution_count": 5,
   "metadata": {},
   "outputs": [],
   "source": [
    "#input the username and password into the location\n",
    "user.send_keys(\"chenxix2@asu.edu\")\n",
    "password.send_keys(\"Bean122804\")"
   ]
  },
  {
   "cell_type": "code",
   "execution_count": 6,
   "metadata": {},
   "outputs": [],
   "source": [
    "#Click login\n",
    "button = driver.find_element(By.CLASS_NAME, \"login__form_action_container\")\n",
    "button.click()"
   ]
  },
  {
   "cell_type": "code",
   "execution_count": 7,
   "metadata": {},
   "outputs": [],
   "source": [
    "#Redirect to job page\n",
    "driver.get('https://www.linkedin.com/jobs/search/?&f_TPR=r86400&keywords=sde%20new%20grad')  "
   ]
  },
  {
   "cell_type": "code",
   "execution_count": 8,
   "metadata": {},
   "outputs": [],
   "source": [
    "count = driver.find_element(\"css selector\", \"span[dir='ltr']\") "
   ]
  },
  {
   "cell_type": "code",
   "execution_count": 9,
   "metadata": {},
   "outputs": [],
   "source": [
    "match = re.search(r\"(\\d{1,3}(,\\d{3})*)\", count.text)\n",
    "if match:\n",
    "    number = int(match.group(1).replace(\",\", \"\")) \n",
    "else:\n",
    "    print(\"No number found.\")"
   ]
  },
  {
   "cell_type": "code",
   "execution_count": 10,
   "metadata": {},
   "outputs": [
    {
     "data": {
      "text/plain": [
       "744"
      ]
     },
     "execution_count": 10,
     "metadata": {},
     "output_type": "execute_result"
    }
   ],
   "source": [
    "number"
   ]
  },
  {
   "cell_type": "code",
   "execution_count": 11,
   "metadata": {},
   "outputs": [
    {
     "data": {
      "text/plain": [
       "29"
      ]
     },
     "execution_count": 11,
     "metadata": {},
     "output_type": "execute_result"
    }
   ],
   "source": [
    "number//25"
   ]
  },
  {
   "cell_type": "code",
   "execution_count": 12,
   "metadata": {},
   "outputs": [],
   "source": [
    "lst = driver.find_elements(\"css selector\", \"li.jobs-search-results__list-item\")"
   ]
  },
  {
   "cell_type": "code",
   "execution_count": 20,
   "metadata": {},
   "outputs": [],
   "source": [
    "result = []"
   ]
  },
  {
   "cell_type": "code",
   "execution_count": 21,
   "metadata": {},
   "outputs": [],
   "source": [
    "for i in range(25):\n",
    "    stag_lst = []\n",
    "    stag_lst.append(lst[i].text.split(\"\\n\")[0])\n",
    "    stag_lst.append(lst[i].find_element(By.CSS_SELECTOR, \"a.job-card-container__link\").get_attribute(\"href\"))\n",
    "    lst[i].click()\n",
    "    stag_lst.append(BeautifulSoup(driver.find_element(By.CLASS_NAME,\"jobs-description__container\").get_attribute(\"innerHTML\")).get_text())\n",
    "    result.append(stag_lst)"
   ]
  },
  {
   "cell_type": "code",
   "execution_count": 23,
   "metadata": {},
   "outputs": [
    {
     "data": {
      "text/plain": [
       "25"
      ]
     },
     "execution_count": 23,
     "metadata": {},
     "output_type": "execute_result"
    }
   ],
   "source": [
    "len(result)"
   ]
  },
  {
   "cell_type": "code",
   "execution_count": 49,
   "metadata": {},
   "outputs": [
    {
     "data": {
      "text/plain": [
       "'https://www.linkedin.com/jobs/view/4059858458/?eBP=CwEAAAGS0QZeECBx_I6w0qotU1hOODWwOi6hq_lhsHrYxVmO2MST5X3WzDUcXTFMWAN2qUYP3oFjy1KnZaMGnybz23qQ6dm82atOE3FJpgrCOl5hawXPTRNl4iRUHoASiAHPjBj83Sv9ozKg926g7MkVwxwd3Mywdcd1dn1cno0Zqu68CaKeTiEFA2nFXo0hnV5_oTe1cmZD3Y0RVDMcZSAhP8FstDWw_o4vGuHktdkpfwMdUkNT5uQ4TSZcHuh5_3OuoPLpiJXpidijfBlGAsAB0kMqMtMjsYORmprQo3EsOAAaRWIiMCmQFstTv3yR0g0dRnTpUBtUugIcfZm43yjBgZZGRDzX4FeH6GQsVGRJe6x2IjAi7llj625yQe-mnXMFW8k3mWuixwD3fFDXy18m9pbtvNdgqD2O0h26jambwf1LSAMa-LUMMNwBdNqUcE13cTJBfT8hylrt1r36Ofr2XDFzzBWnU-k&refId=RvHAxwkNLfQvwTcqoK%2Bshw%3D%3D&trackingId=WsB%2FfK8ulpX0KKomQO2OHg%3D%3D&trk=flagship3_search_srp_jobs'"
      ]
     },
     "execution_count": 49,
     "metadata": {},
     "output_type": "execute_result"
    }
   ],
   "source": [
    "lst[0].find_element(By.CSS_SELECTOR, \"a.job-card-container__link\").get_attribute(\"href\")"
   ]
  },
  {
   "cell_type": "code",
   "execution_count": 41,
   "metadata": {},
   "outputs": [
    {
     "data": {
      "text/plain": [
       "'Java Cloud Modernization Engineer (Chicago, IL)'"
      ]
     },
     "execution_count": 41,
     "metadata": {},
     "output_type": "execute_result"
    }
   ],
   "source": [
    "lst[0].text.split(\"\\n\")[0]"
   ]
  },
  {
   "cell_type": "code",
   "execution_count": 16,
   "metadata": {},
   "outputs": [],
   "source": [
    "driver.get('https://www.linkedin.com/jobs/search/?&f_TPR=r86400&keywords=sde%20new%20grad'+ '&start=' + str(number))"
   ]
  },
  {
   "cell_type": "code",
   "execution_count": 21,
   "metadata": {},
   "outputs": [],
   "source": [
    "driver.find_element(By.ID,\"jobs-search-box-keyword-id-ember477\").send_keys(Keys.ENTER)"
   ]
  },
  {
   "cell_type": "code",
   "execution_count": 10,
   "metadata": {},
   "outputs": [],
   "source": [
    "list_1 = driver.find_elements(By.CLASS_NAME,\"featured\")"
   ]
  },
  {
   "cell_type": "code",
   "execution_count": 12,
   "metadata": {},
   "outputs": [],
   "source": [
    "elements = driver.find_elements(By.XPATH, \"//a[contains(@id, 'MainContent_gvListingDirectory_lnkDetailTitle_')]\")"
   ]
  },
  {
   "cell_type": "code",
   "execution_count": 14,
   "metadata": {},
   "outputs": [],
   "source": [
    "lst = []\n",
    "for element in elements:\n",
    "    href = element.get_attribute('href')\n",
    "    lst.append(href)"
   ]
  },
  {
   "cell_type": "code",
   "execution_count": 43,
   "metadata": {},
   "outputs": [],
   "source": [
    "next_page = driver.find_element(By.CSS_SELECTOR, \"input[type='image'][onclick*='__doPostBack']\")"
   ]
  },
  {
   "cell_type": "code",
   "execution_count": 42,
   "metadata": {},
   "outputs": [],
   "source": [
    "next_page.click()"
   ]
  },
  {
   "cell_type": "code",
   "execution_count": null,
   "metadata": {},
   "outputs": [],
   "source": []
  },
  {
   "cell_type": "code",
   "execution_count": null,
   "metadata": {},
   "outputs": [],
   "source": []
  },
  {
   "cell_type": "code",
   "execution_count": null,
   "metadata": {},
   "outputs": [],
   "source": []
  },
  {
   "cell_type": "code",
   "execution_count": null,
   "metadata": {},
   "outputs": [],
   "source": []
  },
  {
   "cell_type": "code",
   "execution_count": 44,
   "metadata": {
    "scrolled": true
   },
   "outputs": [
    {
     "name": "stderr",
     "output_type": "stream",
     "text": [
      "<ipython-input-44-67971f48c692>:1: DeprecationWarning: find_elements_by_xpath is deprecated. Please use find_elements(by=By.XPATH, value=xpath) instead\n",
      "  element = driver.find_elements_by_xpath(\"//*[starts-with(@class, 'StyledCard')]\")\n"
     ]
    }
   ],
   "source": [
    "element = driver.find_elements_by_xpath(\"//*[starts-with(@class, 'StyledCard')]\")"
   ]
  },
  {
   "cell_type": "code",
   "execution_count": 48,
   "metadata": {},
   "outputs": [
    {
     "name": "stderr",
     "output_type": "stream",
     "text": [
      "<ipython-input-48-71e2b9c0e640>:1: DeprecationWarning: find_elements_by_xpath is deprecated. Please use find_elements(by=By.XPATH, value=xpath) instead\n",
      "  home_type = driver.find_elements_by_xpath(\"//*[starts-with(@id, 'home-type')]\")\n"
     ]
    }
   ],
   "source": [
    "home_type = driver.find_elements_by_xpath(\"//*[starts-with(@id, 'home-type')]\")"
   ]
  },
  {
   "cell_type": "code",
   "execution_count": 51,
   "metadata": {},
   "outputs": [
    {
     "data": {
      "text/plain": [
       "[]"
      ]
     },
     "execution_count": 51,
     "metadata": {},
     "output_type": "execute_result"
    }
   ],
   "source": [
    "home_type"
   ]
  },
  {
   "cell_type": "code",
   "execution_count": 37,
   "metadata": {},
   "outputs": [],
   "source": [
    "x = element[10].find_elements_by_xpath(\"//*[contains(@class, 'Price')]\")"
   ]
  },
  {
   "cell_type": "code",
   "execution_count": null,
   "metadata": {},
   "outputs": [],
   "source": [
    "<div class=\"PropertyCardWrapper__StyledPriceGridContainer-srp-8-100-8__sc-16e8gqd-0 gZmMEQ\"><span data-test=\"property-card-price\" class=\"PropertyCardWrapper__StyledPriceLine-srp-8-100-8__sc-16e8gqd-1 fIxunP\">$1,050+ Studio</span></div>"
   ]
  },
  {
   "cell_type": "code",
   "execution_count": 52,
   "metadata": {},
   "outputs": [],
   "source": [
    "driver.close()"
   ]
  }
 ],
 "metadata": {
  "kernelspec": {
   "display_name": "Python 3",
   "language": "python",
   "name": "python3"
  },
  "language_info": {
   "codemirror_mode": {
    "name": "ipython",
    "version": 3
   },
   "file_extension": ".py",
   "mimetype": "text/x-python",
   "name": "python",
   "nbconvert_exporter": "python",
   "pygments_lexer": "ipython3",
   "version": "3.8.5"
  }
 },
 "nbformat": 4,
 "nbformat_minor": 4
}
